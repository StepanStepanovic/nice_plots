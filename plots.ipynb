{
 "cells": [
  {
   "cell_type": "code",
   "execution_count": 2,
   "id": "3ecf731f",
   "metadata": {},
   "outputs": [],
   "source": [
    "from rdkit import Chem\n",
    "from rdkit.Chem import Draw, Descriptors\n",
    "from sklearn.linear_model import LinearRegression\n",
    "from sklearn.metrics import r2_score\n",
    "from io import BytesIO\n",
    "import base64\n",
    "import pandas as pd\n",
    "import plotly.express as px\n",
    "import plotly.io as pio\n",
    "import dash\n",
    "from dash import dcc, html\n",
    "from dash.dependencies import Input, Output\n"
   ]
  },
  {
   "cell_type": "code",
   "execution_count": 4,
   "id": "c53efb05",
   "metadata": {},
   "outputs": [],
   "source": [
    "small,df=pd.read_pickle('..\\\\ML_31_12\\\\small.pickle'),pd.read_pickle('..\\\\ML_31_12\\\\df.pkl')\n",
    "small['Ar']=small['mol'].apply(Descriptors.NumAromaticRings)\n"
   ]
  },
  {
   "cell_type": "code",
   "execution_count": 8,
   "id": "2891c6b3",
   "metadata": {},
   "outputs": [],
   "source": [
    "def mol_to_base64(mol, size=(300, 300)):\n",
    "    img = Draw.MolToImage(mol, size=size)\n",
    "    buffered = BytesIO()\n",
    "    img.save(buffered, format=\"PNG\")\n",
    "    return \"data:image/png;base64,\" + base64.b64encode(buffered.getvalue()).decode()\n",
    "\n",
    "def rdkit_plot(df, x_col, y_col, method='MolWt', color='blue', line_color='rgba(255, 0, 0, 0.1)', cluster_col=None, marker_col=None):\n",
    "    df = df.dropna(subset=[x_col, y_col]).copy()  # Avoid SettingWithCopyWarning\n",
    "\n",
    "    lin = LinearRegression()\n",
    "    lin.fit(df[x_col].values.reshape(-1, 1), df[y_col])\n",
    "    print('R² score is', round(r2_score(df[y_col], lin.predict(df[x_col].values.reshape(-1, 1))), 2))\n",
    "\n",
    "    # Generate molecular images\n",
    "    df.loc[:, 'image'] = df['mol'].apply(mol_to_base64)\n",
    "\n",
    "    # Calculate descriptor\n",
    "    def calculate(mol):\n",
    "        if hasattr(Descriptors, method):\n",
    "            return getattr(Descriptors, method)(mol)\n",
    "        else:\n",
    "            raise ValueError(f\"Descriptor method '{method}' not found in RDKit Descriptors\")\n",
    "\n",
    "    df.loc[:, 'calculated'] = df['mol'].apply(calculate)\n",
    "\n",
    "    if method != 'MolWt':\n",
    "        marker_col = 'calculated'\n",
    "\n",
    "    # Plotting\n",
    "    plot_args = {\n",
    "        'x': x_col,\n",
    "        'y': y_col,\n",
    "        'custom_data': ['MW', 'name', 'IPA'],\n",
    "        'color': cluster_col\n",
    "    }\n",
    "\n",
    "    if not marker_col:\n",
    "        plot_args['color_discrete_sequence'] = [color]\n",
    "\n",
    "    fig = px.scatter(df, **plot_args)\n",
    "\n",
    "    if marker_col:\n",
    "        fig.update_layout(\n",
    "            legend=dict(orientation=\"h\", yanchor=\"bottom\", y=1.02, xanchor=\"right\", x=1)\n",
    "        )\n",
    "        for _, row in df.iterrows():\n",
    "            fig.add_annotation(\n",
    "                x=row[x_col], y=row[y_col],\n",
    "                text=str(row[marker_col]),\n",
    "                showarrow=False, yshift=10\n",
    "            )\n",
    "\n",
    "    fig.update_traces(hovertemplate='MW=%{customdata[0]}<br>name=%{customdata[1]}<br>%{customdata[2]}')\n",
    "    fig.add_scatter(\n",
    "        x=df[x_col],\n",
    "        y=df[x_col] * lin.coef_[0] + lin.intercept_,\n",
    "        mode='lines',\n",
    "        line=dict(color=line_color),\n",
    "        showlegend=False\n",
    "    )\n",
    "\n",
    "    # Dash app\n",
    "    app = dash.Dash(__name__)\n",
    "    app.layout = html.Div([\n",
    "        dcc.Graph(id='scatter-plot', figure=fig, style={\"width\": \"70%\", \"display\": \"inline-block\"}),\n",
    "        html.Img(id='mol-image', style={\"width\": \"20%\", \"display\": \"inline-block\"})\n",
    "    ])\n",
    "\n",
    "    @app.callback(Output('mol-image', 'src'), Input('scatter-plot', 'hoverData'))\n",
    "    def update_image(hoverData):\n",
    "        if hoverData:\n",
    "            idx = hoverData['points'][0]['pointIndex']\n",
    "            return df.iloc[idx]['image']\n",
    "        return ''\n",
    "\n",
    "    app.run(mode='external')  # Change to 'inline' for Jupyter Notebook\n"
   ]
  },
  {
   "cell_type": "code",
   "execution_count": 9,
   "id": "4155c63f",
   "metadata": {},
   "outputs": [
    {
     "name": "stdout",
     "output_type": "stream",
     "text": [
      "R² score is 0.09\n"
     ]
    },
    {
     "data": {
      "text/html": [
       "\n",
       "        <iframe\n",
       "            width=\"100%\"\n",
       "            height=\"650\"\n",
       "            src=\"http://127.0.0.1:8050/\"\n",
       "            frameborder=\"0\"\n",
       "            allowfullscreen\n",
       "            \n",
       "        ></iframe>\n",
       "        "
      ],
      "text/plain": [
       "<IPython.lib.display.IFrame at 0x21518789580>"
      ]
     },
     "metadata": {},
     "output_type": "display_data"
    }
   ],
   "source": [
    "rdkit_plot(small,'MW','Tol', cluster_col='ACN',marker_col='Ar')"
   ]
  }
 ],
 "metadata": {
  "kernelspec": {
   "display_name": "ML",
   "language": "python",
   "name": "python3"
  },
  "language_info": {
   "codemirror_mode": {
    "name": "ipython",
    "version": 3
   },
   "file_extension": ".py",
   "mimetype": "text/x-python",
   "name": "python",
   "nbconvert_exporter": "python",
   "pygments_lexer": "ipython3",
   "version": "3.12.7"
  }
 },
 "nbformat": 4,
 "nbformat_minor": 5
}
